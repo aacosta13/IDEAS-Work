{
 "cells": [
  {
   "cell_type": "markdown",
   "metadata": {},
   "source": [
    "### Domain Champion Data"
   ]
  },
  {
   "cell_type": "markdown",
   "metadata": {},
   "source": [
    "#### By: Armando Acosta"
   ]
  },
  {
   "cell_type": "markdown",
   "metadata": {},
   "source": [
    "Notebook Overview:\n",
    "This notebook aims to help display various data and information on the domain champions of various software repositories."
   ]
  },
  {
   "cell_type": "markdown",
   "metadata": {},
   "source": [
    "###### Part 1: Table of Top Contributors"
   ]
  },
  {
   "cell_type": "code",
   "execution_count": 8,
   "metadata": {},
   "outputs": [
    {
     "name": "stdout",
     "output_type": "stream",
     "text": [
      "GitHub Authentication Username: test\n",
      "Password: test\n"
     ]
    },
    {
     "ename": "KeyError",
     "evalue": "0",
     "output_type": "error",
     "traceback": [
      "\u001b[0;31m---------------------------------------------------------------------------\u001b[0m",
      "\u001b[0;31mKeyError\u001b[0m                                  Traceback (most recent call last)",
      "\u001b[0;32m<ipython-input-8-d7ab7d323353>\u001b[0m in \u001b[0;36m<module>\u001b[0;34m\u001b[0m\n\u001b[1;32m     63\u001b[0m     \u001b[0musername\u001b[0m \u001b[0;34m=\u001b[0m \u001b[0minput\u001b[0m\u001b[0;34m(\u001b[0m\u001b[0;34m'GitHub Authentication Username: '\u001b[0m\u001b[0;34m)\u001b[0m\u001b[0;34m\u001b[0m\u001b[0;34m\u001b[0m\u001b[0m\n\u001b[1;32m     64\u001b[0m     \u001b[0mpassword\u001b[0m \u001b[0;34m=\u001b[0m \u001b[0minput\u001b[0m\u001b[0;34m(\u001b[0m\u001b[0;34m'Password: '\u001b[0m\u001b[0;34m)\u001b[0m\u001b[0;34m\u001b[0m\u001b[0;34m\u001b[0m\u001b[0m\n\u001b[0;32m---> 65\u001b[0;31m     \u001b[0mretrieve_repo_info\u001b[0m\u001b[0;34m(\u001b[0m\u001b[0musername\u001b[0m\u001b[0;34m,\u001b[0m \u001b[0mpassword\u001b[0m\u001b[0;34m)\u001b[0m\u001b[0;34m\u001b[0m\u001b[0;34m\u001b[0m\u001b[0m\n\u001b[0m",
      "\u001b[0;32m<ipython-input-8-d7ab7d323353>\u001b[0m in \u001b[0;36mretrieve_repo_info\u001b[0;34m(uname, pword)\u001b[0m\n\u001b[1;32m     47\u001b[0m \u001b[0;34m\u001b[0m\u001b[0m\n\u001b[1;32m     48\u001b[0m         \u001b[0mprint\u001b[0m\u001b[0;34m(\u001b[0m\u001b[0mproject\u001b[0m\u001b[0;34m,\u001b[0m \u001b[0mfile\u001b[0m\u001b[0;34m=\u001b[0m\u001b[0mdevfile\u001b[0m\u001b[0;34m)\u001b[0m\u001b[0;34m\u001b[0m\u001b[0;34m\u001b[0m\u001b[0m\n\u001b[0;32m---> 49\u001b[0;31m         \u001b[0mprint\u001b[0m\u001b[0;34m(\u001b[0m\u001b[0;34m'Top Contributor:'\u001b[0m\u001b[0;34m,\u001b[0m \u001b[0mjson_response\u001b[0m\u001b[0;34m[\u001b[0m\u001b[0;36m0\u001b[0m\u001b[0;34m]\u001b[0m\u001b[0;34m[\u001b[0m\u001b[0;34m'login'\u001b[0m\u001b[0;34m]\u001b[0m\u001b[0;34m,\u001b[0m \u001b[0mfile\u001b[0m\u001b[0;34m=\u001b[0m\u001b[0mdevfile\u001b[0m\u001b[0;34m)\u001b[0m\u001b[0;34m\u001b[0m\u001b[0;34m\u001b[0m\u001b[0m\n\u001b[0m\u001b[1;32m     50\u001b[0m         \u001b[0mprint\u001b[0m\u001b[0;34m(\u001b[0m\u001b[0;34m'Contributions:'\u001b[0m\u001b[0;34m,\u001b[0m \u001b[0mjson_response\u001b[0m\u001b[0;34m[\u001b[0m\u001b[0;36m0\u001b[0m\u001b[0;34m]\u001b[0m\u001b[0;34m[\u001b[0m\u001b[0;34m'contributions'\u001b[0m\u001b[0;34m]\u001b[0m\u001b[0;34m,\u001b[0m \u001b[0mfile\u001b[0m\u001b[0;34m=\u001b[0m\u001b[0mdevfile\u001b[0m\u001b[0;34m)\u001b[0m\u001b[0;34m\u001b[0m\u001b[0;34m\u001b[0m\u001b[0m\n\u001b[1;32m     51\u001b[0m         \u001b[0mprint\u001b[0m\u001b[0;34m(\u001b[0m\u001b[0;34m'-----------------------------------'\u001b[0m\u001b[0;34m,\u001b[0m \u001b[0mfile\u001b[0m\u001b[0;34m=\u001b[0m\u001b[0mdevfile\u001b[0m\u001b[0;34m)\u001b[0m\u001b[0;34m\u001b[0m\u001b[0;34m\u001b[0m\u001b[0m\n",
      "\u001b[0;31mKeyError\u001b[0m: 0"
     ]
    }
   ],
   "source": [
    "#!/usr/bin/env python3\n",
    "\n",
    "'''\n",
    "Small script to retrieve domain champ info from different repos. Prints to file and creates a pandas dataframe\n",
    "\n",
    "By: Armando Acosta\n",
    "'''\n",
    "\n",
    "import requests\n",
    "import pandas as pd\n",
    "\n",
    "project_dict = {\n",
    "    'Moose': 'idaholab/moose',\n",
    "    'Spack': 'spack/spack',\n",
    "    'yt': 'yt-project/yt',\n",
    "    'petsc': 'petsc/petsc',\n",
    "    'E3SM': 'E3SM-Project/E3SM',\n",
    "    'lammps': 'lammps/lammps',\n",
    "    'gromacs': 'gromacs/gromacs',\n",
    "    'OSGConnect': 'OSGConnect/TOREVIEW-tutorial-namd',\n",
    "    'QMCPACK': 'QMCPACK/qmcpack',\n",
    "    'Nek5000': 'Nek5000/Nek5000',\n",
    "    'nwchemgit': 'nwchemgit/nwchem',\n",
    "    # 'ECP-astro': '???',\n",
    "    'lanl': 'lanl/LATTE',\n",
    "    'CRL': 'gridaphobe/CRL',\n",
    "    'enzo-project': 'enzo-project/enzo-dev'\n",
    "}\n",
    "\n",
    "\n",
    "def retrieve_repo_info(uname, pword):\n",
    "    devfile = open('dev_info.txt', 'w')\n",
    "    devfile.write('Repository Name/Top Contributor/Number of Contributions')\n",
    "    print(file=devfile)\n",
    "\n",
    "    data = {'Repository Name': [],\n",
    "            'Top Contributor': [],\n",
    "            'Number of Contributions': []}\n",
    "\n",
    "    for project in project_dict:\n",
    "        # Following block for writing data to file\n",
    "        print(' ', file=devfile)\n",
    "        url = 'https://api.github.com/repos/%s/contributors' % project_dict[project]\n",
    "\n",
    "        response = requests.get(url, auth=(uname, pword))\n",
    "        json_response = response.json()\n",
    "\n",
    "        print(project, file=devfile)\n",
    "        print('Top Contributor:', json_response[0]['login'], file=devfile)\n",
    "        print('Contributions:', json_response[0]['contributions'], file=devfile)\n",
    "        print('-----------------------------------', file=devfile)\n",
    "\n",
    "        # Following block for creating dataframe\n",
    "        data['Repository Name'].append(project)\n",
    "        data['Top Contributor'].append(json_response[0]['login'])\n",
    "        data['Number of Contributions'].append(json_response[0]['contributions'])\n",
    "\n",
    "    df = pd.DataFrame(data)\n",
    "    print(df)\n",
    "\n",
    "\n",
    "if __name__ == '__main__':\n",
    "    username = input('GitHub Authentication Username: ')\n",
    "    password = input('Password: ')\n",
    "    retrieve_repo_info(username, password)\n"
   ]
  },
  {
   "cell_type": "markdown",
   "metadata": {},
   "source": [
    "###### Part 2: Inspecting Files Touched by Top Contributors (in progress)"
   ]
  },
  {
   "cell_type": "code",
   "execution_count": 10,
   "metadata": {},
   "outputs": [
    {
     "name": "stdout",
     "output_type": "stream",
     "text": [
      "GitHub Authentication Username: test\n",
      "Password: test\n"
     ]
    },
    {
     "ename": "TypeError",
     "evalue": "string indices must be integers",
     "output_type": "error",
     "traceback": [
      "\u001b[0;31m---------------------------------------------------------------------------\u001b[0m",
      "\u001b[0;31mTypeError\u001b[0m                                 Traceback (most recent call last)",
      "\u001b[0;32m<ipython-input-10-085a753a2dad>\u001b[0m in \u001b[0;36m<module>\u001b[0;34m\u001b[0m\n\u001b[1;32m     89\u001b[0m     \u001b[0musername\u001b[0m \u001b[0;34m=\u001b[0m \u001b[0minput\u001b[0m\u001b[0;34m(\u001b[0m\u001b[0;34m'GitHub Authentication Username: '\u001b[0m\u001b[0;34m)\u001b[0m\u001b[0;34m\u001b[0m\u001b[0;34m\u001b[0m\u001b[0m\n\u001b[1;32m     90\u001b[0m     \u001b[0mpassword\u001b[0m \u001b[0;34m=\u001b[0m \u001b[0minput\u001b[0m\u001b[0;34m(\u001b[0m\u001b[0;34m'Password: '\u001b[0m\u001b[0;34m)\u001b[0m\u001b[0;34m\u001b[0m\u001b[0;34m\u001b[0m\u001b[0m\n\u001b[0;32m---> 91\u001b[0;31m     \u001b[0mretrieve_file_info\u001b[0m\u001b[0;34m(\u001b[0m\u001b[0musername\u001b[0m\u001b[0;34m,\u001b[0m \u001b[0mpassword\u001b[0m\u001b[0;34m)\u001b[0m\u001b[0;34m\u001b[0m\u001b[0;34m\u001b[0m\u001b[0m\n\u001b[0m",
      "\u001b[0;32m<ipython-input-10-085a753a2dad>\u001b[0m in \u001b[0;36mretrieve_file_info\u001b[0;34m(uname, pwd)\u001b[0m\n\u001b[1;32m     55\u001b[0m         \u001b[0;32mwhile\u001b[0m \u001b[0;32mnot\u001b[0m \u001b[0mmax_page\u001b[0m\u001b[0;34m:\u001b[0m\u001b[0;34m\u001b[0m\u001b[0;34m\u001b[0m\u001b[0m\n\u001b[1;32m     56\u001b[0m             \u001b[0;32mfor\u001b[0m \u001b[0mitem\u001b[0m \u001b[0;32min\u001b[0m \u001b[0mcommit_json_response\u001b[0m\u001b[0;34m:\u001b[0m\u001b[0;34m\u001b[0m\u001b[0;34m\u001b[0m\u001b[0m\n\u001b[0;32m---> 57\u001b[0;31m                 \u001b[0;32mif\u001b[0m \u001b[0mitem\u001b[0m\u001b[0;34m[\u001b[0m\u001b[0;34m'author'\u001b[0m\u001b[0;34m]\u001b[0m \u001b[0;32mis\u001b[0m \u001b[0;32mNone\u001b[0m\u001b[0;34m:\u001b[0m\u001b[0;34m\u001b[0m\u001b[0;34m\u001b[0m\u001b[0m\n\u001b[0m\u001b[1;32m     58\u001b[0m                     \u001b[0mitem_count\u001b[0m \u001b[0;34m+=\u001b[0m \u001b[0;36m1\u001b[0m\u001b[0;34m\u001b[0m\u001b[0;34m\u001b[0m\u001b[0m\n\u001b[1;32m     59\u001b[0m                     \u001b[0;32mcontinue\u001b[0m\u001b[0;34m\u001b[0m\u001b[0;34m\u001b[0m\u001b[0m\n",
      "\u001b[0;31mTypeError\u001b[0m: string indices must be integers"
     ]
    }
   ],
   "source": [
    "#!/usr/bin/env python3\n",
    "\n",
    "'''\n",
    "Script to analyze files touched by top developer of different project repos\n",
    "\n",
    "By: Armando Acosta\n",
    "'''\n",
    "\n",
    "import requests\n",
    "import pandas as pd\n",
    "\n",
    "project_dict = {\n",
    "    'Moose': 'idaholab/moose',\n",
    "    'Spack': 'spack/spack',\n",
    "    'yt': 'yt-project/yt',\n",
    "    'petsc': 'petsc/petsc',\n",
    "    'E3SM': 'E3SM-Project/E3SM',\n",
    "    'lammps': 'lammps/lammps',\n",
    "    'gromacs': 'gromacs/gromacs',\n",
    "    'OSGConnect': 'OSGConnect/TOREVIEW-tutorial-namd',\n",
    "    'QMCPACK': 'QMCPACK/qmcpack',\n",
    "    'Nek5000': 'Nek5000/Nek5000',\n",
    "    'nwchemgit': 'nwchemgit/nwchem',\n",
    "    # 'ECP-astro': '???',\n",
    "    'lanl': 'lanl/LATTE',\n",
    "    'CRL': 'gridaphobe/CRL',\n",
    "    'enzo-project': 'enzo-project/enzo-dev'\n",
    "}\n",
    "\n",
    "\n",
    "\n",
    "def retrieve_file_info(uname, pwd):\n",
    "    commitfile = open('commit_info.txt', 'w')\n",
    "    commitfile.write('Repository Name/Top Committer/Commit Files Affected')\n",
    "    print(file=commitfile)\n",
    "\n",
    "    data = {'Repository': [],\n",
    "            'Committer': [],\n",
    "            'Commit Files Touched': []}\n",
    "\n",
    "    for project in project_dict:\n",
    "        print(' ', file=commitfile)\n",
    "        commit_url = 'https://api.github.com/repos/%s/commits' % project_dict[project]\n",
    "        contributor_url = 'https://api.github.com/repos/%s/contributors' % project_dict[project]\n",
    "\n",
    "        commit_response = requests.get(commit_url, auth=(uname, pwd))\n",
    "        commit_json_response = commit_response.json()\n",
    "        contributor_response = requests.get(contributor_url, auth=(uname, pwd))\n",
    "        contributor_json_response = contributor_response.json()\n",
    "\n",
    "        item_count = 0\n",
    "        page_no = 1\n",
    "        max_page = False\n",
    "        # Parse through JSON response of API for author\n",
    "        while not max_page:\n",
    "            for item in commit_json_response:\n",
    "                if item['author'] is None:\n",
    "                    item_count += 1\n",
    "                    continue\n",
    "\n",
    "                # If commit belongs to top dev, analyze the files here\n",
    "                if item['author']['login'] == contributor_json_response[0]['login']:\n",
    "                    individual_commit_url = 'https://api.github.com/repos/%s/commits' % project_dict[project] \\\n",
    "                                            + '/' + str(item['sha'])\n",
    "                    individual_commit_response = requests.get(individual_commit_url, auth=(uname, pwd))\n",
    "                    individual_json_response = individual_commit_response.json()\n",
    "\n",
    "                    print('-----------------------------------')\n",
    "                    print('Developer: ', contributor_json_response[0]['login'])\n",
    "                    print('')\n",
    "                    print(\"Files modified by commit:\")\n",
    "\n",
    "                    for file in individual_json_response['files']:\n",
    "                        print(file['filename'])\n",
    "                item_count += 1\n",
    "\n",
    "            if item_count == 30:\n",
    "                page_no += 1\n",
    "                commit_url += '?&page=%s' % str(page_no)\n",
    "                commit_response = requests.get(commit_url, auth=(uname, pwd))\n",
    "                commit_json_response = commit_response.json()\n",
    "                item_count = 0\n",
    "\n",
    "            else:\n",
    "                max_page = True\n",
    "\n",
    "\n",
    "if __name__ == '__main__':\n",
    "    username = input('GitHub Authentication Username: ')\n",
    "    password = input('Password: ')\n",
    "    retrieve_file_info(username, password)\n"
   ]
  },
  {
   "cell_type": "code",
   "execution_count": null,
   "metadata": {},
   "outputs": [],
   "source": []
  }
 ],
 "metadata": {
  "kernelspec": {
   "display_name": "Python 3",
   "language": "python",
   "name": "python3"
  },
  "language_info": {
   "codemirror_mode": {
    "name": "ipython",
    "version": 3
   },
   "file_extension": ".py",
   "mimetype": "text/x-python",
   "name": "python",
   "nbconvert_exporter": "python",
   "pygments_lexer": "ipython3",
   "version": "3.7.6"
  }
 },
 "nbformat": 4,
 "nbformat_minor": 4
}
